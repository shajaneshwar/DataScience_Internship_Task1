{
 "cells": [
  {
   "cell_type": "markdown",
   "id": "47e786d5-20cf-48e6-8f74-9416e2e9f3a0",
   "metadata": {},
   "source": [
    "# Data Loading"
   ]
  },
  {
   "cell_type": "code",
   "execution_count": null,
   "id": "3f652ab0-7662-48bb-8260-cca3be38c0bf",
   "metadata": {},
   "outputs": [
    {
     "name": "stdout",
     "output_type": "stream",
     "text": [
      "  school sex  age address famsize Pstatus  Medu  Fedu     Mjob      Fjob  ...  \\\n",
      "0     GP   F   18       U     GT3       A     4     4  at_home   teacher  ...   \n",
      "1     GP   F   17       U     GT3       T     1     1  at_home     other  ...   \n",
      "2     GP   F   15       U     LE3       T     1     1  at_home     other  ...   \n",
      "3     GP   F   15       U     GT3       T     4     2   health  services  ...   \n",
      "4     GP   F   16       U     GT3       T     3     3    other     other  ...   \n",
      "\n",
      "  famrel freetime  goout  Dalc  Walc health absences  G1  G2  G3  \n",
      "0      4        3      4     1     1      3        6   5   6   6  \n",
      "1      5        3      3     1     1      3        4   5   5   6  \n",
      "2      4        3      2     2     3      3       10   7   8  10  \n",
      "3      3        2      2     1     1      5        2  15  14  15  \n",
      "4      4        3      2     1     2      5        4   6  10  10  \n",
      "\n",
      "[5 rows x 33 columns]\n"
     ]
    }
   ],
   "source": [
    "import pandas as pd\n",
    "\n",
    "# Load the dataset\n",
    "df = pd.read_csv(\"student-mat.csv\",delimiter=\";\")\n",
    "\n",
    "# Display first few rows\n",
    "print(df.head())"
   ]
  },
  {
   "cell_type": "markdown",
   "id": "199d3474-7d06-4a0b-9461-2f8122f72e5e",
   "metadata": {},
   "source": [
    "The dataset student-mat.csv was loaded using Pandas to analyze student performance data. The first few rows were displayed to understand the structure of the data."
   ]
  },
  {
   "cell_type": "markdown",
   "id": "eb180c44-3357-4942-81a2-9a2b24de24a7",
   "metadata": {},
   "source": [
    "# Data Exploration"
   ]
  },
  {
   "cell_type": "code",
   "execution_count": 21,
   "id": "a523fe6c-2835-4fa1-8eff-3835976b2f66",
   "metadata": {},
   "outputs": [
    {
     "name": "stdout",
     "output_type": "stream",
     "text": [
      "school        0\n",
      "sex           0\n",
      "age           0\n",
      "address       0\n",
      "famsize       0\n",
      "Pstatus       0\n",
      "Medu          0\n",
      "Fedu          0\n",
      "Mjob          0\n",
      "Fjob          0\n",
      "reason        0\n",
      "guardian      0\n",
      "traveltime    0\n",
      "studytime     0\n",
      "failures      0\n",
      "schoolsup     0\n",
      "famsup        0\n",
      "paid          0\n",
      "activities    0\n",
      "nursery       0\n",
      "higher        0\n",
      "internet      0\n",
      "romantic      0\n",
      "famrel        0\n",
      "freetime      0\n",
      "goout         0\n",
      "Dalc          0\n",
      "Walc          0\n",
      "health        0\n",
      "absences      0\n",
      "G1            0\n",
      "G2            0\n",
      "G3            0\n",
      "dtype: int64\n",
      "school        object\n",
      "sex           object\n",
      "age            int64\n",
      "address       object\n",
      "famsize       object\n",
      "Pstatus       object\n",
      "Medu           int64\n",
      "Fedu           int64\n",
      "Mjob          object\n",
      "Fjob          object\n",
      "reason        object\n",
      "guardian      object\n",
      "traveltime     int64\n",
      "studytime      int64\n",
      "failures       int64\n",
      "schoolsup     object\n",
      "famsup        object\n",
      "paid          object\n",
      "activities    object\n",
      "nursery       object\n",
      "higher        object\n",
      "internet      object\n",
      "romantic      object\n",
      "famrel         int64\n",
      "freetime       int64\n",
      "goout          int64\n",
      "Dalc           int64\n",
      "Walc           int64\n",
      "health         int64\n",
      "absences       int64\n",
      "G1             int64\n",
      "G2             int64\n",
      "G3             int64\n",
      "dtype: object\n",
      "(395, 33)\n"
     ]
    }
   ],
   "source": [
    "# Check for missing values\n",
    "print(df.isnull().sum())\n",
    "\n",
    "# Show column data types\n",
    "print(df.dtypes)\n",
    "\n",
    "# Get the dataset size\n",
    "print(df.shape)"
   ]
  },
  {
   "cell_type": "markdown",
   "id": "3b8f9d96-ebbb-4cf5-907c-737707ead3bb",
   "metadata": {},
   "source": [
    "1. Checked for missing values in the dataset. No missing values were found.\n",
    "2. The dataset contains 33 columns and 395 rows.\n",
    "3. Data types for each column were identified to ensure compatibility for analysis."
   ]
  },
  {
   "cell_type": "markdown",
   "id": "6986e016-df10-49f6-b9c2-4733e33e08f4",
   "metadata": {},
   "source": [
    "# Data Cleaning"
   ]
  },
  {
   "cell_type": "code",
   "execution_count": null,
   "id": "7c2245b2-ea96-4c6a-af13-7ebaf925ae63",
   "metadata": {},
   "outputs": [],
   "source": [
    "# Fill missing values with median\n",
    "df.fillna(df.select_dtypes(include=[\"number\"]).median(), inplace=True)\n",
    "\n",
    "# Remove duplicate entries\n",
    "df.drop_duplicates(inplace=True)\n"
   ]
  },
  {
   "cell_type": "markdown",
   "id": "b7e80926-994a-4b15-bf9b-0cc4598791b3",
   "metadata": {},
   "source": [
    "1. Missing values (if present) were replaced with the median value.\n",
    "2. Duplicate rows were removed to ensure data quality."
   ]
  },
  {
   "cell_type": "markdown",
   "id": "1dca30dd-6657-492c-8377-5ff702459a61",
   "metadata": {},
   "source": [
    "# Data Analysis"
   ]
  },
  {
   "cell_type": "code",
   "execution_count": 28,
   "id": "8fd9242a-6f82-4c44-b28f-b9be15ba776a",
   "metadata": {},
   "outputs": [
    {
     "name": "stdout",
     "output_type": "stream",
     "text": [
      "Average Final Grade (G3): 10.415189873417722\n"
     ]
    }
   ],
   "source": [
    "avg_score = df[\"G3\"].mean()\n",
    "print(\"Average Final Grade (G3):\", avg_score)"
   ]
  },
  {
   "cell_type": "code",
   "execution_count": 30,
   "id": "04cfb106-004d-4b4a-9b13-3023a6462069",
   "metadata": {},
   "outputs": [
    {
     "name": "stdout",
     "output_type": "stream",
     "text": [
      "Students scoring above 15: 40\n"
     ]
    }
   ],
   "source": [
    "above_15 = df[df[\"G3\"] > 15].shape[0]\n",
    "print(\"Students scoring above 15:\", above_15)"
   ]
  },
  {
   "cell_type": "code",
   "execution_count": 32,
   "id": "c31d8e8a-0022-48b6-86af-df2ba4509839",
   "metadata": {},
   "outputs": [
    {
     "name": "stdout",
     "output_type": "stream",
     "text": [
      "Correlation between Study Time and G3: 0.09781968965319636\n"
     ]
    }
   ],
   "source": [
    "correlation = df[\"studytime\"].corr(df[\"G3\"])\n",
    "print(\"Correlation between Study Time and G3:\", correlation)"
   ]
  },
  {
   "cell_type": "code",
   "execution_count": 34,
   "id": "f38d0ba8-9861-4a4d-9fee-a553cae1b768",
   "metadata": {},
   "outputs": [
    {
     "name": "stdout",
     "output_type": "stream",
     "text": [
      "Average Final Grade by Gender:\n",
      " sex\n",
      "F     9.966346\n",
      "M    10.914439\n",
      "Name: G3, dtype: float64\n"
     ]
    }
   ],
   "source": [
    "gender_avg = df.groupby(\"sex\")[\"G3\"].mean()\n",
    "print(\"Average Final Grade by Gender:\\n\", gender_avg)"
   ]
  },
  {
   "cell_type": "markdown",
   "id": "3c3ebb13-5dcf-45a6-bd14-bfae7f9c667b",
   "metadata": {},
   "source": [
    "# Data Visualization"
   ]
  },
  {
   "cell_type": "code",
   "execution_count": 36,
   "id": "fd075106-a107-4871-baa2-23640c765410",
   "metadata": {},
   "outputs": [
    {
     "data": {
      "image/png": "[encoded data removed]",
      "text/plain": [
       "<Figure size 640x480 with 1 Axes>"
      ]
     },
     "metadata": {},
     "output_type": "display_data"
    }
   ],
   "source": [
    "import matplotlib.pyplot as plt  \n",
    "import seaborn as sns  \n",
    "\n",
    "plt.hist(df[\"G3\"], bins=10, color=\"skyblue\", edgecolor=\"black\")  \n",
    "plt.xlabel(\"Final Grade (G3)\")  \n",
    "plt.ylabel(\"Number of Students\")  \n",
    "plt.title(\"Distribution of Final Grades\")  \n",
    "plt.show()"
   ]
  },
  {
   "cell_type": "markdown",
   "id": "154b65e4-f977-44a9-92a6-1c48073c8e6d",
   "metadata": {},
   "source": [
    "This histogram visualizes the distribution of final grades. Most students scored between 10 and 15."
   ]
  },
  {
   "cell_type": "code",
   "execution_count": 38,
   "id": "64f5a855-dc58-421b-9274-ba6a7a5d6e2a",
   "metadata": {},
   "outputs": [
    {
     "data": {
      "image/png": "[encoded data removed]",
      "text/plain": [
       "<Figure size 640x480 with 1 Axes>"
      ]
     },
     "metadata": {},
     "output_type": "display_data"
    }
   ],
   "source": [
    "sns.scatterplot(x=df[\"studytime\"], y=df[\"G3\"])  \n",
    "plt.xlabel(\"Study Time (Hours)\")  \n",
    "plt.ylabel(\"Final Grade (G3)\")  \n",
    "plt.title(\"Study Time vs. Final Grade\")  \n",
    "plt.show()"
   ]
  },
  {
   "cell_type": "markdown",
   "id": "ef0caa69-89ea-481f-b14c-78767faddf1c",
   "metadata": {},
   "source": [
    "This scatter plot shows a weak positive correlation between study time and final grades. While studying more helps, it isn’t a strong predictor of performance."
   ]
  },
  {
   "cell_type": "code",
   "execution_count": 40,
   "id": "0f6e9d2c-f8b8-4802-8213-3cbefb4609c8",
   "metadata": {},
   "outputs": [
    {
     "data": {
      "image/png": "[encoded data removed]",
      "text/plain": [
       "<Figure size 640x480 with 1 Axes>"
      ]
     },
     "metadata": {},
     "output_type": "display_data"
    }
   ],
   "source": [
    "sns.barplot(x=df[\"sex\"], y=df[\"G3\"])  \n",
    "plt.xlabel(\"Gender\")  \n",
    "plt.ylabel(\"Average Final Grade\")  \n",
    "plt.title(\"Average Final Grade by Gender\")  \n",
    "plt.show()"
   ]
  },
  {
   "cell_type": "markdown",
   "id": "c464bded-b6d9-48c9-81e6-3aca821cdd16",
   "metadata": {},
   "source": [
    "This bar chart compares the average final grades by gender. Male students performed slightly better than female students on average."
   ]
  },
  {
   "cell_type": "markdown",
   "id": "7ec77a71-8fa9-4125-a4a5-556a86a036e1",
   "metadata": {},
   "source": [
    "# Insights from Analysis:\n",
    "\n",
    "1. The average final grade (G3) is 10.42, indicating most students performed moderately.\n",
    "2. 40 students scored above 15, showcasing exceptional performance.\n",
    "3. The correlation between study time and G3 is 0.0978, which is weak, implying other factors may have a stronger influence.\n",
    "4. Males scored slightly higher (10.91) on average than females (9.97).\n"
   ]
  },
  {
   "cell_type": "markdown",
   "id": "3f8603ab-5d92-4b74-9884-5aef5d0dea76",
   "metadata": {},
   "source": [
    "# Conclusion\n",
    "\n",
    "This analysis provided insights into student performance, including average grades, gender comparisons, and the impact of study time. Visualizations further supported the findings, demonstrating trends and relationships within the data."
   ]
  }
 ],
 "metadata": {
  "kernelspec": {
   "display_name": "Python [conda env:base] *",
   "language": "python",
   "name": "conda-base-py"
  },
  "language_info": {
   "codemirror_mode": {
    "name": "ipython",
    "version": 3
   },
   "file_extension": ".py",
   "mimetype": "text/x-python",
   "name": "python",
   "nbconvert_exporter": "python",
   "pygments_lexer": "ipython3",
   "version": "3.12.7"
  }
 },
 "nbformat": 4,
 "nbformat_minor": 5
}
